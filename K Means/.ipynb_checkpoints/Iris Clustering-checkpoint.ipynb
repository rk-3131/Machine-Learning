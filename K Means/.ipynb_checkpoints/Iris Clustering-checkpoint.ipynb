{
 "cells": [
  {
   "cell_type": "code",
   "execution_count": 1,
   "id": "e0266b72",
   "metadata": {},
   "outputs": [],
   "source": [
    "from sklearn.datasets import load_iris"
   ]
  },
  {
   "cell_type": "code",
   "execution_count": 2,
   "id": "46d592d0",
   "metadata": {},
   "outputs": [],
   "source": [
    "iris = load_iris()"
   ]
  },
  {
   "cell_type": "code",
   "execution_count": 3,
   "id": "a96c7a46",
   "metadata": {},
   "outputs": [
    {
     "data": {
      "text/plain": [
       "['DESCR',\n",
       " 'data',\n",
       " 'data_module',\n",
       " 'feature_names',\n",
       " 'filename',\n",
       " 'frame',\n",
       " 'target',\n",
       " 'target_names']"
      ]
     },
     "execution_count": 3,
     "metadata": {},
     "output_type": "execute_result"
    }
   ],
   "source": [
    "dir(iris)"
   ]
  },
  {
   "cell_type": "code",
   "execution_count": 4,
   "id": "4a79dc26",
   "metadata": {},
   "outputs": [],
   "source": [
    "import pandas as pd"
   ]
  },
  {
   "cell_type": "code",
   "execution_count": 5,
   "id": "c33bc382",
   "metadata": {},
   "outputs": [],
   "source": [
    "file = pd.DataFrame(iris.data, columns = iris.feature_names)"
   ]
  },
  {
   "cell_type": "code",
   "execution_count": 6,
   "id": "66d90794",
   "metadata": {},
   "outputs": [
    {
     "data": {
      "text/html": [
       "<div>\n",
       "<style scoped>\n",
       "    .dataframe tbody tr th:only-of-type {\n",
       "        vertical-align: middle;\n",
       "    }\n",
       "\n",
       "    .dataframe tbody tr th {\n",
       "        vertical-align: top;\n",
       "    }\n",
       "\n",
       "    .dataframe thead th {\n",
       "        text-align: right;\n",
       "    }\n",
       "</style>\n",
       "<table border=\"1\" class=\"dataframe\">\n",
       "  <thead>\n",
       "    <tr style=\"text-align: right;\">\n",
       "      <th></th>\n",
       "      <th>sepal length (cm)</th>\n",
       "      <th>sepal width (cm)</th>\n",
       "      <th>petal length (cm)</th>\n",
       "      <th>petal width (cm)</th>\n",
       "    </tr>\n",
       "  </thead>\n",
       "  <tbody>\n",
       "    <tr>\n",
       "      <th>0</th>\n",
       "      <td>5.1</td>\n",
       "      <td>3.5</td>\n",
       "      <td>1.4</td>\n",
       "      <td>0.2</td>\n",
       "    </tr>\n",
       "    <tr>\n",
       "      <th>1</th>\n",
       "      <td>4.9</td>\n",
       "      <td>3.0</td>\n",
       "      <td>1.4</td>\n",
       "      <td>0.2</td>\n",
       "    </tr>\n",
       "    <tr>\n",
       "      <th>2</th>\n",
       "      <td>4.7</td>\n",
       "      <td>3.2</td>\n",
       "      <td>1.3</td>\n",
       "      <td>0.2</td>\n",
       "    </tr>\n",
       "    <tr>\n",
       "      <th>3</th>\n",
       "      <td>4.6</td>\n",
       "      <td>3.1</td>\n",
       "      <td>1.5</td>\n",
       "      <td>0.2</td>\n",
       "    </tr>\n",
       "    <tr>\n",
       "      <th>4</th>\n",
       "      <td>5.0</td>\n",
       "      <td>3.6</td>\n",
       "      <td>1.4</td>\n",
       "      <td>0.2</td>\n",
       "    </tr>\n",
       "  </tbody>\n",
       "</table>\n",
       "</div>"
      ],
      "text/plain": [
       "   sepal length (cm)  sepal width (cm)  petal length (cm)  petal width (cm)\n",
       "0                5.1               3.5                1.4               0.2\n",
       "1                4.9               3.0                1.4               0.2\n",
       "2                4.7               3.2                1.3               0.2\n",
       "3                4.6               3.1                1.5               0.2\n",
       "4                5.0               3.6                1.4               0.2"
      ]
     },
     "execution_count": 6,
     "metadata": {},
     "output_type": "execute_result"
    }
   ],
   "source": [
    "file.head()"
   ]
  },
  {
   "cell_type": "code",
   "execution_count": 11,
   "id": "8a1df55b",
   "metadata": {},
   "outputs": [],
   "source": [
    "file['Target'] = iris.target"
   ]
  },
  {
   "cell_type": "code",
   "execution_count": 12,
   "id": "8e870ec9",
   "metadata": {},
   "outputs": [
    {
     "data": {
      "text/html": [
       "<div>\n",
       "<style scoped>\n",
       "    .dataframe tbody tr th:only-of-type {\n",
       "        vertical-align: middle;\n",
       "    }\n",
       "\n",
       "    .dataframe tbody tr th {\n",
       "        vertical-align: top;\n",
       "    }\n",
       "\n",
       "    .dataframe thead th {\n",
       "        text-align: right;\n",
       "    }\n",
       "</style>\n",
       "<table border=\"1\" class=\"dataframe\">\n",
       "  <thead>\n",
       "    <tr style=\"text-align: right;\">\n",
       "      <th></th>\n",
       "      <th>sepal length (cm)</th>\n",
       "      <th>sepal width (cm)</th>\n",
       "      <th>petal length (cm)</th>\n",
       "      <th>petal width (cm)</th>\n",
       "      <th>Target</th>\n",
       "    </tr>\n",
       "  </thead>\n",
       "  <tbody>\n",
       "    <tr>\n",
       "      <th>0</th>\n",
       "      <td>5.1</td>\n",
       "      <td>3.5</td>\n",
       "      <td>1.4</td>\n",
       "      <td>0.2</td>\n",
       "      <td>0</td>\n",
       "    </tr>\n",
       "    <tr>\n",
       "      <th>1</th>\n",
       "      <td>4.9</td>\n",
       "      <td>3.0</td>\n",
       "      <td>1.4</td>\n",
       "      <td>0.2</td>\n",
       "      <td>0</td>\n",
       "    </tr>\n",
       "    <tr>\n",
       "      <th>2</th>\n",
       "      <td>4.7</td>\n",
       "      <td>3.2</td>\n",
       "      <td>1.3</td>\n",
       "      <td>0.2</td>\n",
       "      <td>0</td>\n",
       "    </tr>\n",
       "    <tr>\n",
       "      <th>3</th>\n",
       "      <td>4.6</td>\n",
       "      <td>3.1</td>\n",
       "      <td>1.5</td>\n",
       "      <td>0.2</td>\n",
       "      <td>0</td>\n",
       "    </tr>\n",
       "    <tr>\n",
       "      <th>4</th>\n",
       "      <td>5.0</td>\n",
       "      <td>3.6</td>\n",
       "      <td>1.4</td>\n",
       "      <td>0.2</td>\n",
       "      <td>0</td>\n",
       "    </tr>\n",
       "  </tbody>\n",
       "</table>\n",
       "</div>"
      ],
      "text/plain": [
       "   sepal length (cm)  sepal width (cm)  petal length (cm)  petal width (cm)  \\\n",
       "0                5.1               3.5                1.4               0.2   \n",
       "1                4.9               3.0                1.4               0.2   \n",
       "2                4.7               3.2                1.3               0.2   \n",
       "3                4.6               3.1                1.5               0.2   \n",
       "4                5.0               3.6                1.4               0.2   \n",
       "\n",
       "   Target  \n",
       "0       0  \n",
       "1       0  \n",
       "2       0  \n",
       "3       0  \n",
       "4       0  "
      ]
     },
     "execution_count": 12,
     "metadata": {},
     "output_type": "execute_result"
    }
   ],
   "source": [
    "file.head()"
   ]
  },
  {
   "cell_type": "code",
   "execution_count": 14,
   "id": "635f8ed9",
   "metadata": {},
   "outputs": [],
   "source": [
    "import matplotlib.pyplot as plt\n",
    "%matplotlib inline"
   ]
  },
  {
   "cell_type": "code",
   "execution_count": 15,
   "id": "835cef27",
   "metadata": {},
   "outputs": [
    {
     "data": {
      "text/plain": [
       "<matplotlib.collections.PathCollection at 0x15773ffc640>"
      ]
     },
     "execution_count": 15,
     "metadata": {},
     "output_type": "execute_result"
    },
    {
     "data": {
      "image/png": "[encoded data removed]",
      "text/plain": [
       "<Figure size 640x480 with 1 Axes>"
      ]
     },
     "metadata": {},
     "output_type": "display_data"
    }
   ],
   "source": [
    "plt.scatter(file['petal length (cm)'], file['petal width (cm)'])"
   ]
  },
  {
   "cell_type": "code",
   "execution_count": 16,
   "id": "0d8d0cfe",
   "metadata": {},
   "outputs": [],
   "source": [
    "# Here I think that we might get two clusters for the given data set lets perform some operations and then find out"
   ]
  },
  {
   "cell_type": "code",
   "execution_count": 17,
   "id": "893a21ed",
   "metadata": {},
   "outputs": [],
   "source": [
    "from sklearn.cluster import KMeans"
   ]
  },
  {
   "cell_type": "code",
   "execution_count": 18,
   "id": "e4789392",
   "metadata": {},
   "outputs": [],
   "source": [
    "km = KMeans(n_clusters=2)"
   ]
  },
  {
   "cell_type": "code",
   "execution_count": 19,
   "id": "108b2dfa",
   "metadata": {},
   "outputs": [
    {
     "data": {
      "text/plain": [
       "array([1, 1, 1, 1, 1, 1, 1, 1, 1, 1, 1, 1, 1, 1, 1, 1, 1, 1, 1, 1, 1, 1,\n",
       "       1, 1, 1, 1, 1, 1, 1, 1, 1, 1, 1, 1, 1, 1, 1, 1, 1, 1, 1, 1, 1, 1,\n",
       "       1, 1, 1, 1, 1, 1, 0, 0, 0, 0, 0, 0, 0, 0, 0, 0, 0, 0, 0, 0, 0, 0,\n",
       "       0, 0, 0, 0, 0, 0, 0, 0, 0, 0, 0, 0, 0, 0, 0, 0, 0, 0, 0, 0, 0, 0,\n",
       "       0, 0, 0, 0, 0, 0, 0, 0, 0, 0, 1, 0, 0, 0, 0, 0, 0, 0, 0, 0, 0, 0,\n",
       "       0, 0, 0, 0, 0, 0, 0, 0, 0, 0, 0, 0, 0, 0, 0, 0, 0, 0, 0, 0, 0, 0,\n",
       "       0, 0, 0, 0, 0, 0, 0, 0, 0, 0, 0, 0, 0, 0, 0, 0, 0, 0])"
      ]
     },
     "execution_count": 19,
     "metadata": {},
     "output_type": "execute_result"
    }
   ],
   "source": [
    "km.fit_predict(file[['petal length (cm)', 'petal width (cm)']])"
   ]
  },
  {
   "cell_type": "code",
   "execution_count": 20,
   "id": "8992ed85",
   "metadata": {},
   "outputs": [],
   "source": [
    "predicted = km.fit_transform(file[['petal length (cm)', 'petal width (cm)']])"
   ]
  },
  {
   "cell_type": "code",
   "execution_count": 21,
   "id": "48b3c746",
   "metadata": {},
   "outputs": [
    {
     "data": {
      "text/plain": [
       "array([[3.82402805, 0.11148917],\n",
       "       [3.82402805, 0.11148917],\n",
       "       [3.91640664, 0.20214155],\n",
       "       [3.73204233, 0.06323339],\n",
       "       [3.82402805, 0.11148917],\n",
       "       [3.47063563, 0.24907364],\n",
       "       [3.78640025, 0.09940229],\n",
       "       [3.73204233, 0.06323339],\n",
       "       [3.82402805, 0.11148917],\n",
       "       [3.77286411, 0.16293398],\n",
       "       [3.73204233, 0.06323339],\n",
       "       [3.64047929, 0.12476814],\n",
       "       [3.86387812, 0.18702635],\n",
       "       [4.13940885, 0.42458565],\n",
       "       [4.00915097, 0.29881864],\n",
       "       [3.65724113, 0.13747881],\n",
       "       [3.84519359, 0.23614226],\n",
       "       [3.78640025, 0.09940229],\n",
       "       [3.5087997 , 0.21115562],\n",
       "       [3.69347754, 0.03807154],\n",
       "       [3.54937163, 0.21710762],\n",
       "       [3.65724113, 0.13747881],\n",
       "       [4.1956397 , 0.49614043],\n",
       "       [3.43495969, 0.31541823],\n",
       "       [3.36867006, 0.41264146],\n",
       "       [3.64047929, 0.12476814],\n",
       "       [3.56375675, 0.17455386],\n",
       "       [3.73204233, 0.06323339],\n",
       "       [3.82402805, 0.11148917],\n",
       "       [3.64047929, 0.12476814],\n",
       "       [3.64047929, 0.12476814],\n",
       "       [3.65724113, 0.13747881],\n",
       "       [3.77286411, 0.16293398],\n",
       "       [3.82402805, 0.11148917],\n",
       "       [3.73204233, 0.06323339],\n",
       "       [4.00915097, 0.29881864],\n",
       "       [3.91640664, 0.20214155],\n",
       "       [3.86387812, 0.18702635],\n",
       "       [3.91640664, 0.20214155],\n",
       "       [3.73204233, 0.06323339],\n",
       "       [3.8796749 , 0.19573499],\n",
       "       [3.8796749 , 0.19573499],\n",
       "       [3.91640664, 0.20214155],\n",
       "       [3.49680353, 0.35407769],\n",
       "       [3.28560659, 0.43031957],\n",
       "       [3.78640025, 0.09940229],\n",
       "       [3.64047929, 0.12476814],\n",
       "       [3.82402805, 0.11148917],\n",
       "       [3.73204233, 0.06323339],\n",
       "       [3.82402805, 0.11148917],\n",
       "       [0.3607772 , 3.40346975],\n",
       "       [0.46249061, 3.25237145],\n",
       "       [0.18356345, 3.62549232],\n",
       "       [1.00093824, 2.71388558],\n",
       "       [0.37262187, 3.34506931],\n",
       "       [0.57151101, 3.18166907],\n",
       "       [0.23965165, 3.47541483],\n",
       "       [1.76247604, 1.95239381],\n",
       "       [0.50157186, 3.27636791],\n",
       "       [1.06327994, 2.66290392],\n",
       "       [1.57994329, 2.13892002],\n",
       "       [0.74769584, 2.97711507],\n",
       "       [1.14933384, 2.61396672],\n",
       "       [0.3607772 , 3.40346975],\n",
       "       [1.37915894, 2.34923401],\n",
       "       [0.59608028, 3.12232292],\n",
       "       [0.46249061, 3.25237145],\n",
       "       [1.07047548, 2.71005362],\n",
       "       [0.46249061, 3.25237145],\n",
       "       [1.17883635, 2.54925565],\n",
       "       [0.17220667, 3.64759905],\n",
       "       [1.00093824, 2.71388558],\n",
       "       [0.18356345, 3.62549232],\n",
       "       [0.53187166, 3.34196115],\n",
       "       [0.73261575, 2.993306  ],\n",
       "       [0.59608028, 3.12232292],\n",
       "       [0.30839858, 3.49788149],\n",
       "       [0.076927  , 3.79086601],\n",
       "       [0.46249061, 3.25237145],\n",
       "       [1.57994329, 2.13892002],\n",
       "       [1.26676977, 2.45502255],\n",
       "       [1.40218393, 2.32768471],\n",
       "       [1.13282457, 2.58382571],\n",
       "       [0.19295309, 3.84769837],\n",
       "       [0.46249061, 3.25237145],\n",
       "       [0.43305187, 3.29171247],\n",
       "       [0.28947634, 3.43817645],\n",
       "       [0.64936534, 3.08730456],\n",
       "       [0.9093002 , 2.80655368],\n",
       "       [1.00093824, 2.71388558],\n",
       "       [0.71276853, 3.05515932],\n",
       "       [0.43036112, 3.3093863 ],\n",
       "       [1.0431879 , 2.67726053],\n",
       "       [1.76247604, 1.95239381],\n",
       "       [0.81961964, 2.89970898],\n",
       "       [0.87071234, 2.86546003],\n",
       "       [0.81961964, 2.89970898],\n",
       "       [0.73261575, 2.993306  ],\n",
       "       [2.0112458 , 1.72469902],\n",
       "       [0.9093002 , 2.80655368],\n",
       "       [1.35074188, 5.03249036],\n",
       "       [0.2795353 , 3.96196109],\n",
       "       [1.06066426, 4.77541482],\n",
       "       [0.68501905, 4.38606063],\n",
       "       [1.01670819, 4.72339592],\n",
       "       [1.72616776, 5.42821951],\n",
       "       [0.42564103, 3.33358996],\n",
       "       [1.37981795, 5.04762402],\n",
       "       [0.88269479, 4.57391136],\n",
       "       [1.43159111, 5.12225808],\n",
       "       [0.36301012, 4.004321  ],\n",
       "       [0.43363461, 4.14490928],\n",
       "       [0.71078175, 4.40889013],\n",
       "       [0.32684378, 3.91446268],\n",
       "       [0.73913585, 4.19337461],\n",
       "       [0.72290001, 4.31857348],\n",
       "       [0.58677219, 4.29254694],\n",
       "       [1.84884856, 5.5564905 ],\n",
       "       [2.06924536, 5.77885585],\n",
       "       [0.19658341, 3.71964557],\n",
       "       [0.99115206, 4.67507769],\n",
       "       [0.31918233, 3.82510777],\n",
       "       [1.80304417, 5.48996218],\n",
       "       [0.12084963, 3.7385221 ],\n",
       "       [0.88040314, 4.59145396],\n",
       "       [1.08122573, 4.76275156],\n",
       "       [0.17220667, 3.64759905],\n",
       "       [0.12084963, 3.7385221 ],\n",
       "       [0.7938263 , 4.49998676],\n",
       "       [0.87856551, 4.5106278 ],\n",
       "       [1.19483678, 4.89007382],\n",
       "       [1.50868147, 5.20624422],\n",
       "       [0.85076234, 4.54173225],\n",
       "       [0.25217956, 3.81409646],\n",
       "       [0.7312357 , 4.26236131],\n",
       "       [1.32747143, 5.0381173 ],\n",
       "       [0.98542847, 4.63057596],\n",
       "       [0.58677219, 4.29254694],\n",
       "       [0.17220667, 3.64759905],\n",
       "       [0.63266199, 4.31818753],\n",
       "       [0.98542847, 4.63057596],\n",
       "       [0.64240598, 4.14330057],\n",
       "       [0.2795353 , 3.96196109],\n",
       "       [1.15424495, 4.85587157],\n",
       "       [1.12678975, 4.76563253],\n",
       "       [0.6764872 , 4.23066286],\n",
       "       [0.23063064, 3.87111962],\n",
       "       [0.42038773, 4.0946496 ],\n",
       "       [0.77944463, 4.40699961],\n",
       "       [0.21095882, 3.92169412]])"
      ]
     },
     "execution_count": 21,
     "metadata": {},
     "output_type": "execute_result"
    }
   ],
   "source": [
    "predicted"
   ]
  },
  {
   "cell_type": "code",
   "execution_count": null,
   "id": "c69dd479",
   "metadata": {},
   "outputs": [],
   "source": []
  }
 ],
 "metadata": {
  "kernelspec": {
   "display_name": "Python 3 (ipykernel)",
   "language": "python",
   "name": "python3"
  },
  "language_info": {
   "codemirror_mode": {
    "name": "ipython",
    "version": 3
   },
   "file_extension": ".py",
   "mimetype": "text/x-python",
   "name": "python",
   "nbconvert_exporter": "python",
   "pygments_lexer": "ipython3",
   "version": "3.10.2"
  }
 },
 "nbformat": 4,
 "nbformat_minor": 5
}
